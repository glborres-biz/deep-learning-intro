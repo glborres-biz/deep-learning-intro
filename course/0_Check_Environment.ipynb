{
 "cells": [
  {
   "cell_type": "markdown",
   "metadata": {},
   "source": [
    "# Check Environment\n",
    "This notebook checks that you have correctly created the environment and that all packages needed are installed."
   ]
  },
  {
   "cell_type": "markdown",
   "metadata": {},
   "source": [
    "## Environment\n",
    "\n",
    "The next command should return a line like (Mac/Linux):\n",
    "\n",
    "    /<YOUR-HOME-FOLDER>/anaconda/envs/deep-learning/bin/python\n",
    "\n",
    "or like (Windows 10):\n",
    "\n",
    "    C:\\\\<YOUR-HOME-FOLDER>\\\\Anaconda3\\\\envs\\\\deep-learning\\\\python.exe\n",
    "\n",
    "If that's not the case do this:\n",
    "\n",
    "1. close this notebook\n",
    "2. go to the terminal and stop jupyer notebook\n",
    "3. make sure that you have activated the environment, you should see a prompt like:\n",
    "\n",
    "        (deep-learning) $\n",
    "4. restart jupyter notebook"
   ]
  },
  {
   "cell_type": "code",
   "execution_count": null,
   "metadata": {
    "scrolled": true
   },
   "outputs": [],
   "source": [
    "import os\n",
    "import sys\n",
    "sys.executable"
   ]
  },
  {
   "cell_type": "markdown",
   "metadata": {},
   "source": [
    "## Python 3.7\n",
    "\n",
    "The next line should say that you're using Python 3.7.x from Anaconda.\n",
    "\n",
    "If you see a different version of python, go back to the previous step and make sure you created and activated the environment correctly."
   ]
  },
  {
   "cell_type": "code",
   "execution_count": null,
   "metadata": {
    "scrolled": true
   },
   "outputs": [],
   "source": [
    "import sys\n",
    "sys.version"
   ]
  },
  {
   "cell_type": "markdown",
   "metadata": {},
   "source": [
    "## Other packages\n",
    "\n",
    "Here we will check that all the packages are installed and have the correct versions. If everything is ok you should see:\n",
    "    \n",
    "    Using TensorFlow backend.\n",
    "    \n",
    "    Welcome to deep learning!\n",
    "\n",
    "If there's any issue here please make sure you have checked the previous steps."
   ]
  },
  {
   "cell_type": "code",
   "execution_count": null,
   "metadata": {
    "scrolled": true
   },
   "outputs": [],
   "source": [
    "import pip\n",
    "import numpy\n",
    "import jupyter\n",
    "import matplotlib\n",
    "import sklearn\n",
    "import scipy\n",
    "import pandas\n",
    "import PIL\n",
    "import seaborn\n",
    "import h5py\n",
    "import tensorflow\n",
    "import keras\n",
    "\n",
    "\n",
    "def check_version(pkg, version):\n",
    "    actual = pkg.__version__.split('.')\n",
    "    if len(actual) == 3:\n",
    "        actual_major = '.'.join(actual[:2])\n",
    "    elif len(actual) == 2:\n",
    "        actual_major = '.'.join(actual)\n",
    "    else:\n",
    "        raise NotImplementedError(pkg.__name__ +\n",
    "                                  \"actual version :\"+\n",
    "                                  pkg.__version__)\n",
    "    try:\n",
    "        assert(actual_major == version)\n",
    "    except Exception as ex:\n",
    "        print(\"{} {}\\t=> {}\".format(pkg.__name__,\n",
    "                                    version,\n",
    "                                    pkg.__version__))\n",
    "        raise ex\n",
    "\n",
    "check_version(pip, '19.1')\n",
    "check_version(numpy, '1.16')\n",
    "check_version(matplotlib, '3.1')\n",
    "check_version(sklearn, '0.21')\n",
    "check_version(scipy, '1.2')\n",
    "check_version(pandas, '0.24')\n",
    "check_version(PIL, '6.1')\n",
    "check_version(seaborn, '0.9')\n",
    "check_version(h5py, '2.9')\n",
    "check_version(tensorflow, '1.13')\n",
    "check_version(keras, '2.2')\n",
    "\n",
    "print(\"Welcome to deep learning!\")"
   ]
  }
 ],
 "metadata": {
  "kernelspec": {
   "display_name": "Python 3",
   "language": "python",
   "name": "python3"
  },
  "language_info": {
   "codemirror_mode": {
    "name": "ipython",
    "version": 3
   },
   "file_extension": ".py",
   "mimetype": "text/x-python",
   "name": "python",
   "nbconvert_exporter": "python",
   "pygments_lexer": "ipython3",
   "version": "3.7.7"
  }
 },
 "nbformat": 4,
 "nbformat_minor": 2
}
